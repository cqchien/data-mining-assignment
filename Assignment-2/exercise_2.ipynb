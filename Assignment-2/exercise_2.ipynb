{
 "cells": [
  {
   "cell_type": "code",
   "execution_count": 2,
   "metadata": {},
   "outputs": [
    {
     "ename": "ModuleNotFoundError",
     "evalue": "No module named 'numpy'",
     "output_type": "error",
     "traceback": [
      "\u001b[0;31m---------------------------------------------------------------------------\u001b[0m",
      "\u001b[0;31mModuleNotFoundError\u001b[0m                       Traceback (most recent call last)",
      "\u001b[1;32m/Users/geekup/Projects/data_mining/Assignment-2/exercise_2.ipynb Cell 1'\u001b[0m in \u001b[0;36m<cell line: 1>\u001b[0;34m()\u001b[0m\n\u001b[0;32m----> <a href='vscode-notebook-cell:/Users/geekup/Projects/data_mining/Assignment-2/exercise_2.ipynb#ch0000000?line=0'>1</a>\u001b[0m \u001b[39mimport\u001b[39;00m \u001b[39mnumpy\u001b[39;00m \u001b[39mas\u001b[39;00m \u001b[39mnp\u001b[39;00m \n\u001b[1;32m      <a href='vscode-notebook-cell:/Users/geekup/Projects/data_mining/Assignment-2/exercise_2.ipynb#ch0000000?line=2'>3</a>\u001b[0m \u001b[39m#define array of data\u001b[39;00m\n\u001b[1;32m      <a href='vscode-notebook-cell:/Users/geekup/Projects/data_mining/Assignment-2/exercise_2.ipynb#ch0000000?line=3'>4</a>\u001b[0m data \u001b[39m=\u001b[39m np\u001b[39m.\u001b[39marray([\u001b[39m130\u001b[39m,\u001b[39m132\u001b[39m , \u001b[39m138\u001b[39m ,\u001b[39m153\u001b[39m , \u001b[39m133\u001b[39m , \u001b[39m110\u001b[39m , \u001b[39m132\u001b[39m , \u001b[39m129\u001b[39m , \u001b[39m135\u001b[39m , \u001b[39m134\u001b[39m , \u001b[39m136\u001b[39m , \u001b[39m133\u001b[39m , \u001b[39m133\u001b[39m , \u001b[39m134\u001b[39m , \u001b[39m135\u001b[39m])\n",
      "\u001b[0;31mModuleNotFoundError\u001b[0m: No module named 'numpy'"
     ]
    }
   ],
   "source": [
    "import numpy as np \n",
    "\n",
    "#define array of data\n",
    "data = np.array([130,132 , 138 ,153 , 133 , 110 , 132 , 129 , 135 , 134 , 136 , 133 , 133 , 134 , 135])\n",
    "\n",
    "#calculate interquartile range \n",
    "q3, q1 = np.percentile(data, [75 ,25])\n",
    "iqr = q3 - q1\n",
    "\n",
    "# finding upper and lower whiskers\n",
    "upper_bound = q3+(1.5*iqr)\n",
    "lower_bound = q1-(1.5*iqr)\n",
    "#display interquartile range \n",
    "print(\"Q1: \", q1);\n",
    "print(\"Q2: \", q3);\n",
    "print(\"IQR: \", iqr);\n",
    "print(\"Upper Bound: \", upper_bound);\n",
    "print(\"Lower Bound: \", lower_bound);\n",
    "\n",
    "\n",
    "outliers = data[(data <= lower_bound) | (data >= upper_bound)]\n",
    "print('The following are the outliers in the boxplot:{}'.format(outliers))\n",
    "\n",
    "plt.boxplot(data)\n",
    "fig = plt.figure(figsize =(10, 7))\n",
    "plt.show()\n",
    "\n"
   ]
  }
 ],
 "metadata": {
  "interpreter": {
   "hash": "31f2aee4e71d21fbe5cf8b01ff0e069b9275f58929596ceb00d14d90e3e16cd6"
  },
  "kernelspec": {
   "display_name": "Python 3.8.9 64-bit",
   "language": "python",
   "name": "python3"
  },
  "language_info": {
   "codemirror_mode": {
    "name": "ipython",
    "version": 3
   },
   "file_extension": ".py",
   "mimetype": "text/x-python",
   "name": "python",
   "nbconvert_exporter": "python",
   "pygments_lexer": "ipython3",
   "version": "3.8.9"
  },
  "orig_nbformat": 4
 },
 "nbformat": 4,
 "nbformat_minor": 2
}
